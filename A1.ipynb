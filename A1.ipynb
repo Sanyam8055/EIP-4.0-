{
  "nbformat": 4,
  "nbformat_minor": 0,
  "metadata": {
    "colab": {
      "name": "A1.ipynb",
      "provenance": [],
      "collapsed_sections": [],
      "include_colab_link": true
    },
    "kernelspec": {
      "name": "python3",
      "display_name": "Python 3"
    }
  },
  "cells": [
    {
      "cell_type": "markdown",
      "metadata": {
        "id": "view-in-github",
        "colab_type": "text"
      },
      "source": [
        "<a href=\"https://colab.research.google.com/github/Sanyam8055/EIP-4.0-/blob/master/A1.ipynb\" target=\"_parent\"><img src=\"https://colab.research.google.com/assets/colab-badge.svg\" alt=\"Open In Colab\"/></a>"
      ]
    },
    {
      "cell_type": "code",
      "metadata": {
        "id": "8XdWmjdK61cr",
        "colab_type": "code",
        "colab": {}
      },
      "source": [
        "# https://keras.io/\n",
        "!pip install -q keras\n",
        "import keras"
      ],
      "execution_count": 0,
      "outputs": []
    },
    {
      "cell_type": "code",
      "metadata": {
        "id": "D5GtJMMZ7LLp",
        "colab_type": "code",
        "colab": {}
      },
      "source": [
        "import numpy as np\n",
        "\n",
        "from keras.models import Sequential\n",
        "from keras.layers import Dense, Dropout, Activation, Flatten, Add\n",
        "from keras.layers import Convolution2D, MaxPooling2D\n",
        "from keras.utils import np_utils\n",
        "\n",
        "from keras.datasets import mnist"
      ],
      "execution_count": 0,
      "outputs": []
    },
    {
      "cell_type": "code",
      "metadata": {
        "id": "pe3dNjc47MLf",
        "colab_type": "code",
        "colab": {}
      },
      "source": [
        "(X_train, y_train), (X_test, y_test) = mnist.load_data()"
      ],
      "execution_count": 0,
      "outputs": []
    },
    {
      "cell_type": "code",
      "metadata": {
        "id": "OGviH_2e7Q4u",
        "colab_type": "code",
        "colab": {
          "base_uri": "https://localhost:8080/",
          "height": 298
        },
        "outputId": "27cb9e9c-5a96-4696-9143-ac0950e98c57"
      },
      "source": [
        "print (X_train.shape)\n",
        "from matplotlib import pyplot as plt\n",
        "%matplotlib inline\n",
        "plt.imshow(X_train[0])"
      ],
      "execution_count": 101,
      "outputs": [
        {
          "output_type": "stream",
          "text": [
            "(60000, 28, 28)\n"
          ],
          "name": "stdout"
        },
        {
          "output_type": "execute_result",
          "data": {
            "text/plain": [
              "<matplotlib.image.AxesImage at 0x7fb1b5d3f198>"
            ]
          },
          "metadata": {
            "tags": []
          },
          "execution_count": 101
        },
        {
          "output_type": "display_data",
          "data": {
            "image/png": "[encoded data removed]",
            "text/plain": [
              "<Figure size 432x288 with 1 Axes>"
            ]
          },
          "metadata": {
            "tags": []
          }
        }
      ]
    },
    {
      "cell_type": "code",
      "metadata": {
        "id": "0YNd_98g7UIx",
        "colab_type": "code",
        "colab": {}
      },
      "source": [
        "X_train = X_train.reshape(X_train.shape[0], 28, 28,1)\n",
        "X_test = X_test.reshape(X_test.shape[0], 28, 28,1)"
      ],
      "execution_count": 0,
      "outputs": []
    },
    {
      "cell_type": "code",
      "metadata": {
        "id": "qGalrVdh7lrZ",
        "colab_type": "code",
        "colab": {}
      },
      "source": [
        "X_train = X_train.astype('float32')\n",
        "X_test = X_test.astype('float32')\n",
        "X_train /= 255\n",
        "X_test /= 255"
      ],
      "execution_count": 0,
      "outputs": []
    },
    {
      "cell_type": "code",
      "metadata": {
        "id": "jluWi7667oaB",
        "colab_type": "code",
        "outputId": "f86bf29e-0a1e-4b2d-87c2-00f28b976919",
        "colab": {
          "base_uri": "https://localhost:8080/",
          "height": 34
        }
      },
      "source": [
        "y_train[:10]"
      ],
      "execution_count": 104,
      "outputs": [
        {
          "output_type": "execute_result",
          "data": {
            "text/plain": [
              "array([5, 0, 4, 1, 9, 2, 1, 3, 1, 4], dtype=uint8)"
            ]
          },
          "metadata": {
            "tags": []
          },
          "execution_count": 104
        }
      ]
    },
    {
      "cell_type": "code",
      "metadata": {
        "id": "fIAOjE2X7sb7",
        "colab_type": "code",
        "colab": {}
      },
      "source": [
        "# Convert 1-dimensional class arrays to 10-dimensional class matrices\n",
        "Y_train = np_utils.to_categorical(y_train, 10)\n",
        "Y_test = np_utils.to_categorical(y_test, 10)"
      ],
      "execution_count": 0,
      "outputs": []
    },
    {
      "cell_type": "code",
      "metadata": {
        "id": "4RXAXTBG7vSR",
        "colab_type": "code",
        "outputId": "2f9d9d8e-2ce3-4e16-8526-db9d80c1907c",
        "colab": {
          "base_uri": "https://localhost:8080/",
          "height": 185
        }
      },
      "source": [
        "Y_train[:10]"
      ],
      "execution_count": 106,
      "outputs": [
        {
          "output_type": "execute_result",
          "data": {
            "text/plain": [
              "array([[0., 0., 0., 0., 0., 1., 0., 0., 0., 0.],\n",
              "       [1., 0., 0., 0., 0., 0., 0., 0., 0., 0.],\n",
              "       [0., 0., 0., 0., 1., 0., 0., 0., 0., 0.],\n",
              "       [0., 1., 0., 0., 0., 0., 0., 0., 0., 0.],\n",
              "       [0., 0., 0., 0., 0., 0., 0., 0., 0., 1.],\n",
              "       [0., 0., 1., 0., 0., 0., 0., 0., 0., 0.],\n",
              "       [0., 1., 0., 0., 0., 0., 0., 0., 0., 0.],\n",
              "       [0., 0., 0., 1., 0., 0., 0., 0., 0., 0.],\n",
              "       [0., 1., 0., 0., 0., 0., 0., 0., 0., 0.],\n",
              "       [0., 0., 0., 0., 1., 0., 0., 0., 0., 0.]], dtype=float32)"
            ]
          },
          "metadata": {
            "tags": []
          },
          "execution_count": 106
        }
      ]
    },
    {
      "cell_type": "code",
      "metadata": {
        "id": "ywRvVm_77x0E",
        "colab_type": "code",
        "outputId": "bccc4de9-b84c-4968-a243-615d3dfe650e",
        "colab": {
          "base_uri": "https://localhost:8080/",
          "height": 205
        }
      },
      "source": [
        "from keras.layers import Activation\n",
        "model = Sequential()\n",
        "\n",
        " \n",
        "model.add(Convolution2D(32, 3, 3, activation='relu', input_shape=(28,28,1)))\n",
        "model.add(Convolution2D(64, 3, 3, activation='relu'))\n",
        "model.add(Convolution2D(128, 3, 3, activation='relu'))\n",
        "model.add(MaxPooling2D(pool_size=(2, 2)))                         \n",
        "model.add(Convolution2D(32, 1, activation='relu'))\n",
        "model.add(Convolution2D(64, 3, 3, activation='relu'))\n",
        "model.add(Convolution2D(128, 3, 3, activation='relu'))\n",
        "model.add(Convolution2D(32, 1, activation='relu'))\n",
        "\n",
        "\n",
        "model.add(Convolution2D(10, 7))\n",
        "model.add(Flatten())\n",
        "model.add(Activation('softmax'))"
      ],
      "execution_count": 55,
      "outputs": [
        {
          "output_type": "stream",
          "text": [
            "/usr/local/lib/python3.6/dist-packages/ipykernel_launcher.py:5: UserWarning: Update your `Conv2D` call to the Keras 2 API: `Conv2D(32, (3, 3), activation=\"relu\", input_shape=(28, 28, 1...)`\n",
            "  \"\"\"\n",
            "/usr/local/lib/python3.6/dist-packages/ipykernel_launcher.py:6: UserWarning: Update your `Conv2D` call to the Keras 2 API: `Conv2D(64, (3, 3), activation=\"relu\")`\n",
            "  \n",
            "/usr/local/lib/python3.6/dist-packages/ipykernel_launcher.py:7: UserWarning: Update your `Conv2D` call to the Keras 2 API: `Conv2D(128, (3, 3), activation=\"relu\")`\n",
            "  import sys\n",
            "/usr/local/lib/python3.6/dist-packages/ipykernel_launcher.py:10: UserWarning: Update your `Conv2D` call to the Keras 2 API: `Conv2D(64, (3, 3), activation=\"relu\")`\n",
            "  # Remove the CWD from sys.path while we load stuff.\n",
            "/usr/local/lib/python3.6/dist-packages/ipykernel_launcher.py:11: UserWarning: Update your `Conv2D` call to the Keras 2 API: `Conv2D(128, (3, 3), activation=\"relu\")`\n",
            "  # This is added back by InteractiveShellApp.init_path()\n"
          ],
          "name": "stderr"
        }
      ]
    },
    {
      "cell_type": "code",
      "metadata": {
        "id": "ZG8JiXR39FHC",
        "colab_type": "code",
        "outputId": "61f416c7-815e-4345-ad1f-0e6f3d22e616",
        "colab": {
          "base_uri": "https://localhost:8080/",
          "height": 521
        }
      },
      "source": [
        "model.summary()"
      ],
      "execution_count": 56,
      "outputs": [
        {
          "output_type": "stream",
          "text": [
            "Model: \"sequential_18\"\n",
            "_________________________________________________________________\n",
            "Layer (type)                 Output Shape              Param #   \n",
            "=================================================================\n",
            "conv2d_117 (Conv2D)          (None, 26, 26, 32)        320       \n",
            "_________________________________________________________________\n",
            "conv2d_118 (Conv2D)          (None, 24, 24, 64)        18496     \n",
            "_________________________________________________________________\n",
            "conv2d_119 (Conv2D)          (None, 22, 22, 128)       73856     \n",
            "_________________________________________________________________\n",
            "max_pooling2d_6 (MaxPooling2 (None, 11, 11, 128)       0         \n",
            "_________________________________________________________________\n",
            "conv2d_120 (Conv2D)          (None, 11, 11, 32)        4128      \n",
            "_________________________________________________________________\n",
            "conv2d_121 (Conv2D)          (None, 9, 9, 64)          18496     \n",
            "_________________________________________________________________\n",
            "conv2d_122 (Conv2D)          (None, 7, 7, 128)         73856     \n",
            "_________________________________________________________________\n",
            "conv2d_123 (Conv2D)          (None, 7, 7, 32)          4128      \n",
            "_________________________________________________________________\n",
            "conv2d_124 (Conv2D)          (None, 1, 1, 10)          15690     \n",
            "_________________________________________________________________\n",
            "flatten_12 (Flatten)         (None, 10)                0         \n",
            "_________________________________________________________________\n",
            "activation_12 (Activation)   (None, 10)                0         \n",
            "=================================================================\n",
            "Total params: 208,970\n",
            "Trainable params: 208,970\n",
            "Non-trainable params: 0\n",
            "_________________________________________________________________\n"
          ],
          "name": "stdout"
        }
      ]
    },
    {
      "cell_type": "code",
      "metadata": {
        "id": "lK9G42iX8DK5",
        "colab_type": "code",
        "outputId": "1bf3a903-f2c1-4037-cea4-31c05638478b",
        "colab": {
          "base_uri": "https://localhost:8080/",
          "height": 34
        }
      },
      "source": [
        "model.compile(loss='categorical_crossentropy',\n",
        "             optimizer='adam',\n",
        "             metrics=['accuracy']\n",
        "              )\n",
        "keras.optimizers.Adam(lr=0.005)\n"
      ],
      "execution_count": 85,
      "outputs": [
        {
          "output_type": "execute_result",
          "data": {
            "text/plain": [
              "<keras.optimizers.Adam at 0x7fb1b616a320>"
            ]
          },
          "metadata": {
            "tags": []
          },
          "execution_count": 85
        }
      ]
    },
    {
      "cell_type": "code",
      "metadata": {
        "colab_type": "code",
        "outputId": "92eb655f-0a67-455f-fb42-cb16d07213ea",
        "id": "6L4goYhm6hDL",
        "colab": {
          "base_uri": "https://localhost:8080/",
          "height": 420
        }
      },
      "source": [
        "model.fit(X_train, Y_train, batch_size=512, nb_epoch=10, verbose=1, validation_split=0.5)"
      ],
      "execution_count": 0,
      "outputs": [
        {
          "output_type": "stream",
          "text": [
            "/usr/local/lib/python3.6/dist-packages/ipykernel_launcher.py:1: UserWarning: The `nb_epoch` argument in `fit` has been renamed `epochs`.\n",
            "  \"\"\"Entry point for launching an IPython kernel.\n"
          ],
          "name": "stderr"
        },
        {
          "output_type": "stream",
          "text": [
            "Train on 30000 samples, validate on 30000 samples\n",
            "Epoch 1/10\n",
            "30000/30000 [==============================] - 225s 7ms/step - loss: 0.0197 - acc: 0.9939 - val_loss: 0.0259 - val_acc: 0.9920\n",
            "Epoch 2/10\n",
            "30000/30000 [==============================] - 225s 7ms/step - loss: 0.0135 - acc: 0.9955 - val_loss: 0.0265 - val_acc: 0.9924\n",
            "Epoch 3/10\n",
            "30000/30000 [==============================] - 225s 7ms/step - loss: 0.0115 - acc: 0.9963 - val_loss: 0.0246 - val_acc: 0.9925\n",
            "Epoch 4/10\n",
            "30000/30000 [==============================] - 225s 8ms/step - loss: 0.0073 - acc: 0.9975 - val_loss: 0.0310 - val_acc: 0.9920\n",
            "Epoch 5/10\n",
            "30000/30000 [==============================] - 225s 7ms/step - loss: 0.0065 - acc: 0.9977 - val_loss: 0.0277 - val_acc: 0.9929\n",
            "Epoch 6/10\n",
            "30000/30000 [==============================] - 225s 8ms/step - loss: 0.0049 - acc: 0.9982 - val_loss: 0.0355 - val_acc: 0.9907\n",
            "Epoch 7/10\n",
            "30000/30000 [==============================] - 225s 7ms/step - loss: 0.0050 - acc: 0.9984 - val_loss: 0.0316 - val_acc: 0.9924\n",
            "Epoch 8/10\n",
            "30000/30000 [==============================] - 225s 8ms/step - loss: 0.0092 - acc: 0.9970 - val_loss: 0.0322 - val_acc: 0.9908\n",
            "Epoch 9/10\n",
            "30000/30000 [==============================] - 225s 8ms/step - loss: 0.0049 - acc: 0.9985 - val_loss: 0.0339 - val_acc: 0.9922\n",
            "Epoch 10/10\n",
            "30000/30000 [==============================] - 225s 8ms/step - loss: 0.0037 - acc: 0.9988 - val_loss: 0.0457 - val_acc: 0.9910\n"
          ],
          "name": "stdout"
        },
        {
          "output_type": "execute_result",
          "data": {
            "text/plain": [
              "<keras.callbacks.History at 0x7fb1b5e31668>"
            ]
          },
          "metadata": {
            "tags": []
          },
          "execution_count": 87
        }
      ]
    },
    {
      "cell_type": "code",
      "metadata": {
        "id": "bBmb_mlGoCVa",
        "colab_type": "code",
        "colab": {
          "base_uri": "https://localhost:8080/",
          "height": 420
        },
        "outputId": "4e21e7e5-ecd0-464d-d82f-28d05a74ca7c"
      },
      "source": [
        "model.fit(X_train, Y_train, batch_size=512, nb_epoch=10, verbose=1, validation_split=0.5)"
      ],
      "execution_count": 109,
      "outputs": [
        {
          "output_type": "stream",
          "text": [
            "/usr/local/lib/python3.6/dist-packages/ipykernel_launcher.py:1: UserWarning: The `nb_epoch` argument in `fit` has been renamed `epochs`.\n",
            "  \"\"\"Entry point for launching an IPython kernel.\n"
          ],
          "name": "stderr"
        },
        {
          "output_type": "stream",
          "text": [
            "Train on 30000 samples, validate on 30000 samples\n",
            "Epoch 1/10\n",
            "30000/30000 [==============================] - 221s 7ms/step - loss: 0.0087 - acc: 0.9970 - val_loss: 0.0356 - val_acc: 0.9911\n",
            "Epoch 2/10\n",
            "30000/30000 [==============================] - 221s 7ms/step - loss: 0.0038 - acc: 0.9990 - val_loss: 0.0369 - val_acc: 0.9920\n",
            "Epoch 3/10\n",
            "30000/30000 [==============================] - 221s 7ms/step - loss: 0.0027 - acc: 0.9991 - val_loss: 0.0396 - val_acc: 0.9916\n",
            "Epoch 4/10\n",
            "30000/30000 [==============================] - 220s 7ms/step - loss: 0.0019 - acc: 0.9995 - val_loss: 0.0374 - val_acc: 0.9920\n",
            "Epoch 5/10\n",
            "30000/30000 [==============================] - 221s 7ms/step - loss: 4.3647e-04 - acc: 0.9999 - val_loss: 0.0431 - val_acc: 0.9926\n",
            "Epoch 6/10\n",
            "30000/30000 [==============================] - 221s 7ms/step - loss: 1.2394e-04 - acc: 1.0000 - val_loss: 0.0427 - val_acc: 0.9928\n",
            "Epoch 7/10\n",
            "30000/30000 [==============================] - 221s 7ms/step - loss: 1.9064e-05 - acc: 1.0000 - val_loss: 0.0444 - val_acc: 0.9928\n",
            "Epoch 8/10\n",
            "30000/30000 [==============================] - 221s 7ms/step - loss: 7.1007e-06 - acc: 1.0000 - val_loss: 0.0443 - val_acc: 0.9928\n",
            "Epoch 9/10\n",
            "30000/30000 [==============================] - 220s 7ms/step - loss: 5.3800e-06 - acc: 1.0000 - val_loss: 0.0443 - val_acc: 0.9928\n",
            "Epoch 10/10\n",
            "30000/30000 [==============================] - 220s 7ms/step - loss: 4.4525e-06 - acc: 1.0000 - val_loss: 0.0444 - val_acc: 0.9928\n"
          ],
          "name": "stdout"
        },
        {
          "output_type": "execute_result",
          "data": {
            "text/plain": [
              "<keras.callbacks.History at 0x7fb1b5d97828>"
            ]
          },
          "metadata": {
            "tags": []
          },
          "execution_count": 109
        }
      ]
    },
    {
      "cell_type": "code",
      "metadata": {
        "id": "cXZPlPh7wRym",
        "colab_type": "code",
        "colab": {}
      },
      "source": [
        "score = model.evaluate(X_test, Y_test, verbose=0)"
      ],
      "execution_count": 0,
      "outputs": []
    },
    {
      "cell_type": "code",
      "metadata": {
        "id": "shVXBOcVwVwm",
        "colab_type": "code",
        "outputId": "c70ed7bc-dbee-4e4e-8977-026263e23618",
        "colab": {
          "base_uri": "https://localhost:8080/",
          "height": 34
        }
      },
      "source": [
        "print(score)"
      ],
      "execution_count": 111,
      "outputs": [
        {
          "output_type": "stream",
          "text": [
            "[0.049763190737543934, 0.9913]\n"
          ],
          "name": "stdout"
        }
      ]
    },
    {
      "cell_type": "code",
      "metadata": {
        "id": "5m2vMEAaydee",
        "colab_type": "code",
        "colab": {}
      },
      "source": [
        ""
      ],
      "execution_count": 0,
      "outputs": []
    }
  ]
}